{
 "cells": [
  {
   "cell_type": "markdown",
   "metadata": {},
   "source": [
    "## Reduce the Data in the Dateframe"
   ]
  },
  {
   "cell_type": "code",
   "execution_count": 11,
   "metadata": {
    "collapsed": true
   },
   "outputs": [],
   "source": [
    "import pandas as pd"
   ]
  },
  {
   "cell_type": "code",
   "execution_count": 2,
   "metadata": {
    "collapsed": true
   },
   "outputs": [],
   "source": [
    "checkout = pd.read_csv('checkouts-by-title.csv')"
   ]
  },
  {
   "cell_type": "code",
   "execution_count": 3,
   "metadata": {
    "scrolled": true
   },
   "outputs": [
    {
     "data": {
      "text/html": [
       "<div>\n",
       "<style scoped>\n",
       "    .dataframe tbody tr th:only-of-type {\n",
       "        vertical-align: middle;\n",
       "    }\n",
       "\n",
       "    .dataframe tbody tr th {\n",
       "        vertical-align: top;\n",
       "    }\n",
       "\n",
       "    .dataframe thead th {\n",
       "        text-align: right;\n",
       "    }\n",
       "</style>\n",
       "<table border=\"1\" class=\"dataframe\">\n",
       "  <thead>\n",
       "    <tr style=\"text-align: right;\">\n",
       "      <th></th>\n",
       "      <th>UsageClass</th>\n",
       "      <th>CheckoutType</th>\n",
       "      <th>MaterialType</th>\n",
       "      <th>CheckoutYear</th>\n",
       "      <th>CheckoutMonth</th>\n",
       "      <th>Checkouts</th>\n",
       "      <th>Title</th>\n",
       "      <th>Creator</th>\n",
       "      <th>Subjects</th>\n",
       "      <th>Publisher</th>\n",
       "      <th>PublicationYear</th>\n",
       "    </tr>\n",
       "  </thead>\n",
       "  <tbody>\n",
       "    <tr>\n",
       "      <th>0</th>\n",
       "      <td>Physical</td>\n",
       "      <td>Horizon</td>\n",
       "      <td>VIDEODISC</td>\n",
       "      <td>2017</td>\n",
       "      <td>4</td>\n",
       "      <td>3</td>\n",
       "      <td>The recruit [videorecording] / Touchstone Pict...</td>\n",
       "      <td>NaN</td>\n",
       "      <td>Intelligence officers Drama, Employees Recruit...</td>\n",
       "      <td>Touchstone Home Entertainment ; Distributed by...</td>\n",
       "      <td>c2003.</td>\n",
       "    </tr>\n",
       "    <tr>\n",
       "      <th>1</th>\n",
       "      <td>Digital</td>\n",
       "      <td>Freegal</td>\n",
       "      <td>SONG</td>\n",
       "      <td>2017</td>\n",
       "      <td>4</td>\n",
       "      <td>1</td>\n",
       "      <td>Jelly Roll</td>\n",
       "      <td>Charles Mingus</td>\n",
       "      <td>NaN</td>\n",
       "      <td>NaN</td>\n",
       "      <td>NaN</td>\n",
       "    </tr>\n",
       "    <tr>\n",
       "      <th>2</th>\n",
       "      <td>Digital</td>\n",
       "      <td>Freegal</td>\n",
       "      <td>SONG</td>\n",
       "      <td>2017</td>\n",
       "      <td>4</td>\n",
       "      <td>1</td>\n",
       "      <td>Ci-Key-Boom</td>\n",
       "      <td>Emme De Duke</td>\n",
       "      <td>NaN</td>\n",
       "      <td>NaN</td>\n",
       "      <td>NaN</td>\n",
       "    </tr>\n",
       "    <tr>\n",
       "      <th>3</th>\n",
       "      <td>Physical</td>\n",
       "      <td>Horizon</td>\n",
       "      <td>VIDEODISC</td>\n",
       "      <td>2017</td>\n",
       "      <td>4</td>\n",
       "      <td>7</td>\n",
       "      <td>Sesame Street. Elmo can do it / directed by Ji...</td>\n",
       "      <td>NaN</td>\n",
       "      <td>Elmo Fictitious character Henson Juvenile film...</td>\n",
       "      <td>Sesame Workshop,</td>\n",
       "      <td>[2015]</td>\n",
       "    </tr>\n",
       "    <tr>\n",
       "      <th>4</th>\n",
       "      <td>Digital</td>\n",
       "      <td>OverDrive</td>\n",
       "      <td>EBOOK</td>\n",
       "      <td>2017</td>\n",
       "      <td>4</td>\n",
       "      <td>1</td>\n",
       "      <td>Olive's Ocean</td>\n",
       "      <td>Kevin Henkes</td>\n",
       "      <td>Juvenile Fiction, Juvenile Literature</td>\n",
       "      <td>HarperCollins Publishers Inc.</td>\n",
       "      <td>2013</td>\n",
       "    </tr>\n",
       "  </tbody>\n",
       "</table>\n",
       "</div>"
      ],
      "text/plain": [
       "  UsageClass CheckoutType MaterialType  CheckoutYear  CheckoutMonth  \\\n",
       "0   Physical      Horizon    VIDEODISC          2017              4   \n",
       "1    Digital      Freegal         SONG          2017              4   \n",
       "2    Digital      Freegal         SONG          2017              4   \n",
       "3   Physical      Horizon    VIDEODISC          2017              4   \n",
       "4    Digital    OverDrive        EBOOK          2017              4   \n",
       "\n",
       "   Checkouts                                              Title  \\\n",
       "0          3  The recruit [videorecording] / Touchstone Pict...   \n",
       "1          1                                         Jelly Roll   \n",
       "2          1                                        Ci-Key-Boom   \n",
       "3          7  Sesame Street. Elmo can do it / directed by Ji...   \n",
       "4          1                                      Olive's Ocean   \n",
       "\n",
       "          Creator                                           Subjects  \\\n",
       "0             NaN  Intelligence officers Drama, Employees Recruit...   \n",
       "1  Charles Mingus                                                NaN   \n",
       "2    Emme De Duke                                                NaN   \n",
       "3             NaN  Elmo Fictitious character Henson Juvenile film...   \n",
       "4    Kevin Henkes              Juvenile Fiction, Juvenile Literature   \n",
       "\n",
       "                                           Publisher PublicationYear  \n",
       "0  Touchstone Home Entertainment ; Distributed by...          c2003.  \n",
       "1                                                NaN             NaN  \n",
       "2                                                NaN             NaN  \n",
       "3                                   Sesame Workshop,          [2015]  \n",
       "4                      HarperCollins Publishers Inc.            2013  "
      ]
     },
     "execution_count": 3,
     "metadata": {},
     "output_type": "execute_result"
    }
   ],
   "source": [
    "checkout.head()"
   ]
  },
  {
   "cell_type": "code",
   "execution_count": 4,
   "metadata": {},
   "outputs": [
    {
     "data": {
      "text/plain": [
       "array([ 4,  5,  6,  7,  8,  9, 10, 11, 12,  1,  2,  3])"
      ]
     },
     "execution_count": 4,
     "metadata": {},
     "output_type": "execute_result"
    }
   ],
   "source": [
    "checkout.CheckoutMonth.unique()"
   ]
  },
  {
   "cell_type": "code",
   "execution_count": 5,
   "metadata": {
    "collapsed": true
   },
   "outputs": [],
   "source": [
    "checkout2 = checkout.drop(['CheckoutType', 'Title', 'Creator', 'Publisher', 'PublicationYear'], axis=1)"
   ]
  },
  {
   "cell_type": "code",
   "execution_count": 6,
   "metadata": {},
   "outputs": [
    {
     "data": {
      "text/plain": [
       "array([ 4,  5,  6,  7,  8,  9, 10, 11, 12,  1,  2,  3])"
      ]
     },
     "execution_count": 6,
     "metadata": {},
     "output_type": "execute_result"
    }
   ],
   "source": [
    "checkout2.CheckoutMonth.unique()"
   ]
  },
  {
   "cell_type": "code",
   "execution_count": 7,
   "metadata": {
    "collapsed": true
   },
   "outputs": [],
   "source": [
    "checkout2.to_csv('CheckoutReduced.csv')"
   ]
  },
  {
   "cell_type": "code",
   "execution_count": 8,
   "metadata": {
    "collapsed": true
   },
   "outputs": [],
   "source": [
    "checkout2 = pd.read_csv('CheckoutReduced.csv')"
   ]
  },
  {
   "cell_type": "code",
   "execution_count": 9,
   "metadata": {
    "scrolled": true
   },
   "outputs": [
    {
     "data": {
      "text/html": [
       "<div>\n",
       "<style scoped>\n",
       "    .dataframe tbody tr th:only-of-type {\n",
       "        vertical-align: middle;\n",
       "    }\n",
       "\n",
       "    .dataframe tbody tr th {\n",
       "        vertical-align: top;\n",
       "    }\n",
       "\n",
       "    .dataframe thead th {\n",
       "        text-align: right;\n",
       "    }\n",
       "</style>\n",
       "<table border=\"1\" class=\"dataframe\">\n",
       "  <thead>\n",
       "    <tr style=\"text-align: right;\">\n",
       "      <th></th>\n",
       "      <th>Unnamed: 0</th>\n",
       "      <th>UsageClass</th>\n",
       "      <th>MaterialType</th>\n",
       "      <th>CheckoutYear</th>\n",
       "      <th>CheckoutMonth</th>\n",
       "      <th>Checkouts</th>\n",
       "      <th>Subjects</th>\n",
       "    </tr>\n",
       "  </thead>\n",
       "  <tbody>\n",
       "    <tr>\n",
       "      <th>0</th>\n",
       "      <td>0</td>\n",
       "      <td>Physical</td>\n",
       "      <td>VIDEODISC</td>\n",
       "      <td>2017</td>\n",
       "      <td>4</td>\n",
       "      <td>3</td>\n",
       "      <td>Intelligence officers Drama, Employees Recruit...</td>\n",
       "    </tr>\n",
       "    <tr>\n",
       "      <th>1</th>\n",
       "      <td>1</td>\n",
       "      <td>Digital</td>\n",
       "      <td>SONG</td>\n",
       "      <td>2017</td>\n",
       "      <td>4</td>\n",
       "      <td>1</td>\n",
       "      <td>NaN</td>\n",
       "    </tr>\n",
       "    <tr>\n",
       "      <th>2</th>\n",
       "      <td>2</td>\n",
       "      <td>Digital</td>\n",
       "      <td>SONG</td>\n",
       "      <td>2017</td>\n",
       "      <td>4</td>\n",
       "      <td>1</td>\n",
       "      <td>NaN</td>\n",
       "    </tr>\n",
       "    <tr>\n",
       "      <th>3</th>\n",
       "      <td>3</td>\n",
       "      <td>Physical</td>\n",
       "      <td>VIDEODISC</td>\n",
       "      <td>2017</td>\n",
       "      <td>4</td>\n",
       "      <td>7</td>\n",
       "      <td>Elmo Fictitious character Henson Juvenile film...</td>\n",
       "    </tr>\n",
       "    <tr>\n",
       "      <th>4</th>\n",
       "      <td>4</td>\n",
       "      <td>Digital</td>\n",
       "      <td>EBOOK</td>\n",
       "      <td>2017</td>\n",
       "      <td>4</td>\n",
       "      <td>1</td>\n",
       "      <td>Juvenile Fiction, Juvenile Literature</td>\n",
       "    </tr>\n",
       "  </tbody>\n",
       "</table>\n",
       "</div>"
      ],
      "text/plain": [
       "   Unnamed: 0 UsageClass MaterialType  CheckoutYear  CheckoutMonth  Checkouts  \\\n",
       "0           0   Physical    VIDEODISC          2017              4          3   \n",
       "1           1    Digital         SONG          2017              4          1   \n",
       "2           2    Digital         SONG          2017              4          1   \n",
       "3           3   Physical    VIDEODISC          2017              4          7   \n",
       "4           4    Digital        EBOOK          2017              4          1   \n",
       "\n",
       "                                            Subjects  \n",
       "0  Intelligence officers Drama, Employees Recruit...  \n",
       "1                                                NaN  \n",
       "2                                                NaN  \n",
       "3  Elmo Fictitious character Henson Juvenile film...  \n",
       "4              Juvenile Fiction, Juvenile Literature  "
      ]
     },
     "execution_count": 9,
     "metadata": {},
     "output_type": "execute_result"
    }
   ],
   "source": [
    "checkout2.head()"
   ]
  },
  {
   "cell_type": "code",
   "execution_count": 10,
   "metadata": {},
   "outputs": [
    {
     "data": {
      "text/plain": [
       "array([ 4,  5,  6,  7,  8,  9, 10, 11, 12,  1,  2,  3])"
      ]
     },
     "execution_count": 10,
     "metadata": {},
     "output_type": "execute_result"
    }
   ],
   "source": [
    "checkout2.CheckoutMonth.unique()"
   ]
  },
  {
   "cell_type": "code",
   "execution_count": 21,
   "metadata": {},
   "outputs": [
    {
     "data": {
      "text/html": [
       "<div>\n",
       "<style scoped>\n",
       "    .dataframe tbody tr th:only-of-type {\n",
       "        vertical-align: middle;\n",
       "    }\n",
       "\n",
       "    .dataframe tbody tr th {\n",
       "        vertical-align: top;\n",
       "    }\n",
       "\n",
       "    .dataframe thead th {\n",
       "        text-align: right;\n",
       "    }\n",
       "</style>\n",
       "<table border=\"1\" class=\"dataframe\">\n",
       "  <thead>\n",
       "    <tr style=\"text-align: right;\">\n",
       "      <th></th>\n",
       "      <th>UsageClass</th>\n",
       "      <th>MaterialType</th>\n",
       "      <th>CheckoutYear</th>\n",
       "      <th>CheckoutMonth</th>\n",
       "      <th>Checkouts</th>\n",
       "      <th>Subjects</th>\n",
       "      <th>DATE</th>\n",
       "    </tr>\n",
       "  </thead>\n",
       "  <tbody>\n",
       "    <tr>\n",
       "      <th>0</th>\n",
       "      <td>Physical</td>\n",
       "      <td>VIDEODISC</td>\n",
       "      <td>2017</td>\n",
       "      <td>4</td>\n",
       "      <td>3</td>\n",
       "      <td>Intelligence officers Drama, Employees Recruit...</td>\n",
       "      <td>0            4\\n1            4\\n2            4...</td>\n",
       "    </tr>\n",
       "    <tr>\n",
       "      <th>1</th>\n",
       "      <td>Digital</td>\n",
       "      <td>SONG</td>\n",
       "      <td>2017</td>\n",
       "      <td>4</td>\n",
       "      <td>1</td>\n",
       "      <td>NaN</td>\n",
       "      <td>0            4\\n1            4\\n2            4...</td>\n",
       "    </tr>\n",
       "    <tr>\n",
       "      <th>2</th>\n",
       "      <td>Digital</td>\n",
       "      <td>SONG</td>\n",
       "      <td>2017</td>\n",
       "      <td>4</td>\n",
       "      <td>1</td>\n",
       "      <td>NaN</td>\n",
       "      <td>0            4\\n1            4\\n2            4...</td>\n",
       "    </tr>\n",
       "    <tr>\n",
       "      <th>3</th>\n",
       "      <td>Physical</td>\n",
       "      <td>VIDEODISC</td>\n",
       "      <td>2017</td>\n",
       "      <td>4</td>\n",
       "      <td>7</td>\n",
       "      <td>Elmo Fictitious character Henson Juvenile film...</td>\n",
       "      <td>0            4\\n1            4\\n2            4...</td>\n",
       "    </tr>\n",
       "    <tr>\n",
       "      <th>4</th>\n",
       "      <td>Digital</td>\n",
       "      <td>EBOOK</td>\n",
       "      <td>2017</td>\n",
       "      <td>4</td>\n",
       "      <td>1</td>\n",
       "      <td>Juvenile Fiction, Juvenile Literature</td>\n",
       "      <td>0            4\\n1            4\\n2            4...</td>\n",
       "    </tr>\n",
       "  </tbody>\n",
       "</table>\n",
       "</div>"
      ],
      "text/plain": [
       "  UsageClass MaterialType  CheckoutYear  CheckoutMonth  Checkouts  \\\n",
       "0   Physical    VIDEODISC          2017              4          3   \n",
       "1    Digital         SONG          2017              4          1   \n",
       "2    Digital         SONG          2017              4          1   \n",
       "3   Physical    VIDEODISC          2017              4          7   \n",
       "4    Digital        EBOOK          2017              4          1   \n",
       "\n",
       "                                            Subjects  \\\n",
       "0  Intelligence officers Drama, Employees Recruit...   \n",
       "1                                                NaN   \n",
       "2                                                NaN   \n",
       "3  Elmo Fictitious character Henson Juvenile film...   \n",
       "4              Juvenile Fiction, Juvenile Literature   \n",
       "\n",
       "                                                DATE  \n",
       "0  0            4\\n1            4\\n2            4...  \n",
       "1  0            4\\n1            4\\n2            4...  \n",
       "2  0            4\\n1            4\\n2            4...  \n",
       "3  0            4\\n1            4\\n2            4...  \n",
       "4  0            4\\n1            4\\n2            4...  "
      ]
     },
     "execution_count": 21,
     "metadata": {},
     "output_type": "execute_result"
    }
   ],
   "source": [
    "checkout2.head()"
   ]
  },
  {
   "cell_type": "markdown",
   "metadata": {},
   "source": [
    "## Add the Date Into the Dataframe"
   ]
  },
  {
   "cell_type": "code",
   "execution_count": 11,
   "metadata": {
    "collapsed": true
   },
   "outputs": [],
   "source": [
    "checkout2.CheckoutMonth = checkout2.CheckoutMonth.astype(str)\n",
    "checkout2.CheckoutYear = checkout2.CheckoutYear.astype(str).str[2:4]"
   ]
  },
  {
   "cell_type": "code",
   "execution_count": 13,
   "metadata": {
    "collapsed": true
   },
   "outputs": [],
   "source": [
    "checkout2['DATE'] = checkout2.CheckoutMonth + '/1/' + checkout2.CheckoutYear"
   ]
  },
  {
   "cell_type": "code",
   "execution_count": 14,
   "metadata": {},
   "outputs": [
    {
     "data": {
      "text/plain": [
       "array(['4', '5', '6', '7', '8', '9', '10', '11', '12', '1', '2', '3'],\n",
       "      dtype=object)"
      ]
     },
     "execution_count": 14,
     "metadata": {},
     "output_type": "execute_result"
    }
   ],
   "source": [
    "checkout2['CheckoutMonth'].unique()"
   ]
  },
  {
   "cell_type": "code",
   "execution_count": 15,
   "metadata": {},
   "outputs": [
    {
     "data": {
      "text/plain": [
       "array(['4/1/17', '5/1/17', '6/1/17', '5/1/18', '6/1/18', '7/1/18',\n",
       "       '7/1/17', '8/1/17', '8/1/18', '9/1/18', '10/1/18', '9/1/17',\n",
       "       '10/1/17', '11/1/18', '11/1/17', '12/1/17', '1/1/18', '2/1/18',\n",
       "       '3/1/18', '4/1/18', '12/1/18', '2/1/19', '3/1/19', '5/1/19',\n",
       "       '4/1/19', '11/1/16', '10/1/16', '12/1/16', '1/1/17', '6/1/05',\n",
       "       '7/1/05', '9/1/05', '10/1/05', '4/1/05', '12/1/05', '3/1/06',\n",
       "       '6/1/06', '7/1/06', '9/1/06', '8/1/05', '12/1/06', '1/1/07',\n",
       "       '3/1/07', '4/1/07', '11/1/05', '7/1/07', '10/1/07', '1/1/08',\n",
       "       '2/1/08', '5/1/08', '10/1/06', '2/1/07', '5/1/07', '6/1/07',\n",
       "       '8/1/08', '12/1/08', '1/1/09', '9/1/07', '4/1/09', '7/1/09',\n",
       "       '8/1/09', '11/1/09', '6/1/08', '3/1/10', '9/1/08', '10/1/08',\n",
       "       '5/1/09', '9/1/09', '10/1/09', '2/1/10', '6/1/10', '7/1/10',\n",
       "       '10/1/10', '12/1/10', '4/1/11', '8/1/11', '3/1/11', '1/1/12',\n",
       "       '7/1/11', '11/1/11', '12/1/11', '5/1/12', '4/1/12', '8/1/12',\n",
       "       '1/1/19', '10/1/12', '2/1/13', '7/1/13', '1/1/13', '5/1/13',\n",
       "       '11/1/13', '10/1/13', '3/1/14', '7/1/14', '12/1/14', '4/1/15',\n",
       "       '4/1/14', '9/1/14', '9/1/15', '1/1/15', '6/1/15', '1/1/16',\n",
       "       '11/1/15', '6/1/16', '3/1/17', '2/1/17', '4/1/16', '8/1/16',\n",
       "       '5/1/06', '2/1/06', '11/1/06', '4/1/08', '12/1/09', '11/1/10',\n",
       "       '6/1/11', '8/1/10', '9/1/12', '6/1/12', '4/1/13', '8/1/13',\n",
       "       '9/1/13', '6/1/14', '11/1/14', '8/1/15', '3/1/16', '5/1/15',\n",
       "       '12/1/15', '7/1/16', '8/1/06', '3/1/08', '5/1/11', '2/1/12',\n",
       "       '11/1/12', '12/1/12', '6/1/09', '4/1/10', '5/1/14', '10/1/15',\n",
       "       '5/1/10', '3/1/12', '12/1/13', '7/1/12', '6/1/13', '10/1/14',\n",
       "       '3/1/15', '1/1/06', '5/1/05', '9/1/11', '11/1/07', '4/1/06',\n",
       "       '8/1/07', '3/1/09', '10/1/11', '2/1/09', '5/1/16', '11/1/08',\n",
       "       '1/1/14', '7/1/08', '1/1/11', '9/1/10', '8/1/14', '2/1/16',\n",
       "       '3/1/13', '9/1/16', '12/1/07', '2/1/14', '2/1/15', '7/1/15',\n",
       "       '1/1/10', '2/1/11'], dtype=object)"
      ]
     },
     "execution_count": 15,
     "metadata": {},
     "output_type": "execute_result"
    }
   ],
   "source": [
    "checkout2['DATE'].unique()"
   ]
  },
  {
   "cell_type": "code",
   "execution_count": 27,
   "metadata": {},
   "outputs": [
    {
     "name": "stdout",
     "output_type": "stream",
     "text": [
      "<class 'pandas.core.frame.DataFrame'>\n",
      "RangeIndex: 33802468 entries, 0 to 33802467\n",
      "Data columns (total 7 columns):\n",
      "Unnamed: 0       int64\n",
      "UsageClass       object\n",
      "MaterialType     object\n",
      "CheckoutYear     int64\n",
      "CheckoutMonth    object\n",
      "Checkouts        int64\n",
      "Subjects         object\n",
      "dtypes: int64(3), object(4)\n",
      "memory usage: 1.8+ GB\n"
     ]
    }
   ],
   "source": [
    "checkout2.info()"
   ]
  },
  {
   "cell_type": "code",
   "execution_count": 38,
   "metadata": {},
   "outputs": [
    {
     "data": {
      "text/html": [
       "<div>\n",
       "<style scoped>\n",
       "    .dataframe tbody tr th:only-of-type {\n",
       "        vertical-align: middle;\n",
       "    }\n",
       "\n",
       "    .dataframe tbody tr th {\n",
       "        vertical-align: top;\n",
       "    }\n",
       "\n",
       "    .dataframe thead th {\n",
       "        text-align: right;\n",
       "    }\n",
       "</style>\n",
       "<table border=\"1\" class=\"dataframe\">\n",
       "  <thead>\n",
       "    <tr style=\"text-align: right;\">\n",
       "      <th></th>\n",
       "      <th>Unnamed: 0</th>\n",
       "      <th>UsageClass</th>\n",
       "      <th>MaterialType</th>\n",
       "      <th>CheckoutYear</th>\n",
       "      <th>CheckoutMonth</th>\n",
       "      <th>Checkouts</th>\n",
       "      <th>Subjects</th>\n",
       "      <th>DATE</th>\n",
       "    </tr>\n",
       "  </thead>\n",
       "  <tbody>\n",
       "    <tr>\n",
       "      <th>0</th>\n",
       "      <td>0</td>\n",
       "      <td>Physical</td>\n",
       "      <td>VIDEODISC</td>\n",
       "      <td>17</td>\n",
       "      <td>4</td>\n",
       "      <td>3</td>\n",
       "      <td>Intelligence officers Drama, Employees Recruit...</td>\n",
       "      <td>4/1/17</td>\n",
       "    </tr>\n",
       "    <tr>\n",
       "      <th>1</th>\n",
       "      <td>1</td>\n",
       "      <td>Digital</td>\n",
       "      <td>SONG</td>\n",
       "      <td>17</td>\n",
       "      <td>4</td>\n",
       "      <td>1</td>\n",
       "      <td>NaN</td>\n",
       "      <td>4/1/17</td>\n",
       "    </tr>\n",
       "    <tr>\n",
       "      <th>2</th>\n",
       "      <td>2</td>\n",
       "      <td>Digital</td>\n",
       "      <td>SONG</td>\n",
       "      <td>17</td>\n",
       "      <td>4</td>\n",
       "      <td>1</td>\n",
       "      <td>NaN</td>\n",
       "      <td>4/1/17</td>\n",
       "    </tr>\n",
       "    <tr>\n",
       "      <th>3</th>\n",
       "      <td>3</td>\n",
       "      <td>Physical</td>\n",
       "      <td>VIDEODISC</td>\n",
       "      <td>17</td>\n",
       "      <td>4</td>\n",
       "      <td>7</td>\n",
       "      <td>Elmo Fictitious character Henson Juvenile film...</td>\n",
       "      <td>4/1/17</td>\n",
       "    </tr>\n",
       "    <tr>\n",
       "      <th>4</th>\n",
       "      <td>4</td>\n",
       "      <td>Digital</td>\n",
       "      <td>EBOOK</td>\n",
       "      <td>17</td>\n",
       "      <td>4</td>\n",
       "      <td>1</td>\n",
       "      <td>Juvenile Fiction, Juvenile Literature</td>\n",
       "      <td>4/1/17</td>\n",
       "    </tr>\n",
       "  </tbody>\n",
       "</table>\n",
       "</div>"
      ],
      "text/plain": [
       "   Unnamed: 0 UsageClass MaterialType CheckoutYear CheckoutMonth  Checkouts  \\\n",
       "0           0   Physical    VIDEODISC           17             4          3   \n",
       "1           1    Digital         SONG           17             4          1   \n",
       "2           2    Digital         SONG           17             4          1   \n",
       "3           3   Physical    VIDEODISC           17             4          7   \n",
       "4           4    Digital        EBOOK           17             4          1   \n",
       "\n",
       "                                            Subjects    DATE  \n",
       "0  Intelligence officers Drama, Employees Recruit...  4/1/17  \n",
       "1                                                NaN  4/1/17  \n",
       "2                                                NaN  4/1/17  \n",
       "3  Elmo Fictitious character Henson Juvenile film...  4/1/17  \n",
       "4              Juvenile Fiction, Juvenile Literature  4/1/17  "
      ]
     },
     "execution_count": 38,
     "metadata": {},
     "output_type": "execute_result"
    }
   ],
   "source": [
    "checkout2.head()"
   ]
  },
  {
   "cell_type": "code",
   "execution_count": 16,
   "metadata": {
    "collapsed": true
   },
   "outputs": [],
   "source": [
    "checkout2.to_csv('CheckoutWithDate.csv')"
   ]
  },
  {
   "cell_type": "code",
   "execution_count": 18,
   "metadata": {
    "collapsed": true
   },
   "outputs": [],
   "source": [
    "checkoutWithDate = pd.read_csv('CheckoutWithDate.csv')"
   ]
  },
  {
   "cell_type": "code",
   "execution_count": 30,
   "metadata": {},
   "outputs": [
    {
     "data": {
      "text/plain": [
       "array([ 4,  5,  6,  7,  8,  9, 10, 11, 12,  1,  2,  3])"
      ]
     },
     "execution_count": 30,
     "metadata": {},
     "output_type": "execute_result"
    }
   ],
   "source": [
    "checkoutWithDate.CheckoutMonth.unique()"
   ]
  },
  {
   "cell_type": "code",
   "execution_count": 31,
   "metadata": {},
   "outputs": [
    {
     "data": {
      "text/plain": [
       "array([17, 18, 19, 16,  5,  6,  7,  8,  9, 10, 11, 12, 13, 14, 15])"
      ]
     },
     "execution_count": 31,
     "metadata": {},
     "output_type": "execute_result"
    }
   ],
   "source": [
    "checkoutWithDate.CheckoutYear.unique()"
   ]
  },
  {
   "cell_type": "code",
   "execution_count": 26,
   "metadata": {
    "collapsed": true
   },
   "outputs": [],
   "source": [
    "checkoutWithDate = checkoutWithDate.loc[(checkoutWithDate['CheckoutYear'] > 15) & (checkoutWithDate['CheckoutYear'] < 18)]"
   ]
  },
  {
   "cell_type": "code",
   "execution_count": 27,
   "metadata": {
    "collapsed": true
   },
   "outputs": [],
   "source": [
    "checkoutWithDate.to_csv('CheckoutWithDate.csv')"
   ]
  },
  {
   "cell_type": "code",
   "execution_count": 28,
   "metadata": {},
   "outputs": [
    {
     "name": "stderr",
     "output_type": "stream",
     "text": [
      "/usr/local/Cellar/ipython/6.5.0/libexec/lib/python3.7/site-packages/IPython/core/interactiveshell.py:2785: DtypeWarning: Columns (11) have mixed types. Specify dtype option on import or set low_memory=False.\n",
      "  interactivity=interactivity, compiler=compiler, result=result)\n"
     ]
    }
   ],
   "source": [
    "checkoutWithDate = pd.read_csv('CheckoutWithDate.csv')"
   ]
  },
  {
   "cell_type": "code",
   "execution_count": 29,
   "metadata": {},
   "outputs": [
    {
     "data": {
      "text/plain": [
       "array([ 4,  5,  6,  7,  8,  9, 10, 11, 12,  1,  3,  2])"
      ]
     },
     "execution_count": 29,
     "metadata": {},
     "output_type": "execute_result"
    }
   ],
   "source": [
    "checkoutWithDate.CheckoutMonth.unique()"
   ]
  },
  {
   "cell_type": "code",
   "execution_count": 30,
   "metadata": {},
   "outputs": [
    {
     "data": {
      "text/plain": [
       "array([17, 16])"
      ]
     },
     "execution_count": 30,
     "metadata": {},
     "output_type": "execute_result"
    }
   ],
   "source": [
    "checkoutWithDate.CheckoutYear.unique()"
   ]
  },
  {
   "cell_type": "markdown",
   "metadata": {},
   "source": [
    "## Now Working with the Weather File - Getting Only Past 2011"
   ]
  },
  {
   "cell_type": "code",
   "execution_count": 32,
   "metadata": {
    "collapsed": true
   },
   "outputs": [],
   "source": [
    "weather = pd.read_csv('seattleWeather_1948-2017.csv')"
   ]
  },
  {
   "cell_type": "code",
   "execution_count": 33,
   "metadata": {},
   "outputs": [
    {
     "data": {
      "text/html": [
       "<div>\n",
       "<style scoped>\n",
       "    .dataframe tbody tr th:only-of-type {\n",
       "        vertical-align: middle;\n",
       "    }\n",
       "\n",
       "    .dataframe tbody tr th {\n",
       "        vertical-align: top;\n",
       "    }\n",
       "\n",
       "    .dataframe thead th {\n",
       "        text-align: right;\n",
       "    }\n",
       "</style>\n",
       "<table border=\"1\" class=\"dataframe\">\n",
       "  <thead>\n",
       "    <tr style=\"text-align: right;\">\n",
       "      <th></th>\n",
       "      <th>DATE</th>\n",
       "      <th>PRCP</th>\n",
       "      <th>TMAX</th>\n",
       "      <th>TMIN</th>\n",
       "      <th>RAIN</th>\n",
       "    </tr>\n",
       "  </thead>\n",
       "  <tbody>\n",
       "    <tr>\n",
       "      <th>0</th>\n",
       "      <td>1948-01-01</td>\n",
       "      <td>0.47</td>\n",
       "      <td>51</td>\n",
       "      <td>42</td>\n",
       "      <td>True</td>\n",
       "    </tr>\n",
       "    <tr>\n",
       "      <th>1</th>\n",
       "      <td>1948-01-02</td>\n",
       "      <td>0.59</td>\n",
       "      <td>45</td>\n",
       "      <td>36</td>\n",
       "      <td>True</td>\n",
       "    </tr>\n",
       "    <tr>\n",
       "      <th>2</th>\n",
       "      <td>1948-01-03</td>\n",
       "      <td>0.42</td>\n",
       "      <td>45</td>\n",
       "      <td>35</td>\n",
       "      <td>True</td>\n",
       "    </tr>\n",
       "    <tr>\n",
       "      <th>3</th>\n",
       "      <td>1948-01-04</td>\n",
       "      <td>0.31</td>\n",
       "      <td>45</td>\n",
       "      <td>34</td>\n",
       "      <td>True</td>\n",
       "    </tr>\n",
       "    <tr>\n",
       "      <th>4</th>\n",
       "      <td>1948-01-05</td>\n",
       "      <td>0.17</td>\n",
       "      <td>45</td>\n",
       "      <td>32</td>\n",
       "      <td>True</td>\n",
       "    </tr>\n",
       "  </tbody>\n",
       "</table>\n",
       "</div>"
      ],
      "text/plain": [
       "         DATE  PRCP  TMAX  TMIN  RAIN\n",
       "0  1948-01-01  0.47    51    42  True\n",
       "1  1948-01-02  0.59    45    36  True\n",
       "2  1948-01-03  0.42    45    35  True\n",
       "3  1948-01-04  0.31    45    34  True\n",
       "4  1948-01-05  0.17    45    32  True"
      ]
     },
     "execution_count": 33,
     "metadata": {},
     "output_type": "execute_result"
    }
   ],
   "source": [
    "weather.head()"
   ]
  },
  {
   "cell_type": "code",
   "execution_count": 34,
   "metadata": {},
   "outputs": [
    {
     "name": "stdout",
     "output_type": "stream",
     "text": [
      "<class 'pandas.core.frame.DataFrame'>\n",
      "Int64Index: 2389 entries, 23162 to 25550\n",
      "Data columns (total 5 columns):\n",
      "DATE    2389 non-null object\n",
      "PRCP    2389 non-null float64\n",
      "TMAX    2389 non-null int64\n",
      "TMIN    2389 non-null int64\n",
      "RAIN    2389 non-null object\n",
      "dtypes: float64(1), int64(2), object(2)\n",
      "memory usage: 112.0+ KB\n"
     ]
    }
   ],
   "source": [
    "weather.loc[weather['DATE'] >= '2011-06-01'].info()"
   ]
  },
  {
   "cell_type": "code",
   "execution_count": 35,
   "metadata": {},
   "outputs": [
    {
     "name": "stdout",
     "output_type": "stream",
     "text": [
      "<class 'pandas.core.frame.DataFrame'>\n",
      "RangeIndex: 25551 entries, 0 to 25550\n",
      "Data columns (total 5 columns):\n",
      "DATE    25551 non-null object\n",
      "PRCP    25548 non-null float64\n",
      "TMAX    25551 non-null int64\n",
      "TMIN    25551 non-null int64\n",
      "RAIN    25548 non-null object\n",
      "dtypes: float64(1), int64(2), object(2)\n",
      "memory usage: 998.2+ KB\n"
     ]
    }
   ],
   "source": [
    "weather.info()"
   ]
  },
  {
   "cell_type": "code",
   "execution_count": 38,
   "metadata": {
    "collapsed": true
   },
   "outputs": [],
   "source": [
    "weather2016 = weather.loc[weather['DATE'] >= '2016-01-01']"
   ]
  },
  {
   "cell_type": "code",
   "execution_count": 39,
   "metadata": {
    "scrolled": true
   },
   "outputs": [
    {
     "data": {
      "text/plain": [
       "array(['2016-01-01', '2016-01-02', '2016-01-03', '2016-01-04',\n",
       "       '2016-01-05', '2016-01-06', '2016-01-07', '2016-01-08',\n",
       "       '2016-01-09', '2016-01-10', '2016-01-11', '2016-01-12',\n",
       "       '2016-01-13', '2016-01-14', '2016-01-15', '2016-01-16',\n",
       "       '2016-01-17', '2016-01-18', '2016-01-19', '2016-01-20',\n",
       "       '2016-01-21', '2016-01-22', '2016-01-23', '2016-01-24',\n",
       "       '2016-01-25', '2016-01-26', '2016-01-27', '2016-01-28',\n",
       "       '2016-01-29', '2016-01-30', '2016-01-31', '2016-02-01',\n",
       "       '2016-02-02', '2016-02-03', '2016-02-04', '2016-02-05',\n",
       "       '2016-02-06', '2016-02-07', '2016-02-08', '2016-02-09',\n",
       "       '2016-02-10', '2016-02-11', '2016-02-12', '2016-02-13',\n",
       "       '2016-02-14', '2016-02-15', '2016-02-16', '2016-02-17',\n",
       "       '2016-02-18', '2016-02-19', '2016-02-20', '2016-02-21',\n",
       "       '2016-02-22', '2016-02-23', '2016-02-24', '2016-02-25',\n",
       "       '2016-02-26', '2016-02-27', '2016-02-28', '2016-02-29',\n",
       "       '2016-03-01', '2016-03-02', '2016-03-03', '2016-03-04',\n",
       "       '2016-03-05', '2016-03-06', '2016-03-07', '2016-03-08',\n",
       "       '2016-03-09', '2016-03-10', '2016-03-11', '2016-03-12',\n",
       "       '2016-03-13', '2016-03-14', '2016-03-15', '2016-03-16',\n",
       "       '2016-03-17', '2016-03-18', '2016-03-19', '2016-03-20',\n",
       "       '2016-03-21', '2016-03-22', '2016-03-23', '2016-03-24',\n",
       "       '2016-03-25', '2016-03-26', '2016-03-27', '2016-03-28',\n",
       "       '2016-03-29', '2016-03-30', '2016-03-31', '2016-04-01',\n",
       "       '2016-04-02', '2016-04-03', '2016-04-04', '2016-04-05',\n",
       "       '2016-04-06', '2016-04-07', '2016-04-08', '2016-04-09',\n",
       "       '2016-04-10', '2016-04-11', '2016-04-12', '2016-04-13',\n",
       "       '2016-04-14', '2016-04-15', '2016-04-16', '2016-04-17',\n",
       "       '2016-04-18', '2016-04-19', '2016-04-20', '2016-04-21',\n",
       "       '2016-04-22', '2016-04-23', '2016-04-24', '2016-04-25',\n",
       "       '2016-04-26', '2016-04-27', '2016-04-28', '2016-04-29',\n",
       "       '2016-04-30', '2016-05-01', '2016-05-02', '2016-05-03',\n",
       "       '2016-05-04', '2016-05-05', '2016-05-06', '2016-05-07',\n",
       "       '2016-05-08', '2016-05-09', '2016-05-10', '2016-05-11',\n",
       "       '2016-05-12', '2016-05-13', '2016-05-14', '2016-05-15',\n",
       "       '2016-05-16', '2016-05-17', '2016-05-18', '2016-05-19',\n",
       "       '2016-05-20', '2016-05-21', '2016-05-22', '2016-05-23',\n",
       "       '2016-05-24', '2016-05-25', '2016-05-26', '2016-05-27',\n",
       "       '2016-05-28', '2016-05-29', '2016-05-30', '2016-05-31',\n",
       "       '2016-06-01', '2016-06-02', '2016-06-03', '2016-06-04',\n",
       "       '2016-06-05', '2016-06-06', '2016-06-07', '2016-06-08',\n",
       "       '2016-06-09', '2016-06-10', '2016-06-11', '2016-06-12',\n",
       "       '2016-06-13', '2016-06-14', '2016-06-15', '2016-06-16',\n",
       "       '2016-06-17', '2016-06-18', '2016-06-19', '2016-06-20',\n",
       "       '2016-06-21', '2016-06-22', '2016-06-23', '2016-06-24',\n",
       "       '2016-06-25', '2016-06-26', '2016-06-27', '2016-06-28',\n",
       "       '2016-06-29', '2016-06-30', '2016-07-01', '2016-07-02',\n",
       "       '2016-07-03', '2016-07-04', '2016-07-05', '2016-07-06',\n",
       "       '2016-07-07', '2016-07-08', '2016-07-09', '2016-07-10',\n",
       "       '2016-07-11', '2016-07-12', '2016-07-13', '2016-07-14',\n",
       "       '2016-07-15', '2016-07-16', '2016-07-17', '2016-07-18',\n",
       "       '2016-07-19', '2016-07-20', '2016-07-21', '2016-07-22',\n",
       "       '2016-07-23', '2016-07-24', '2016-07-25', '2016-07-26',\n",
       "       '2016-07-27', '2016-07-28', '2016-07-29', '2016-07-30',\n",
       "       '2016-07-31', '2016-08-01', '2016-08-02', '2016-08-03',\n",
       "       '2016-08-04', '2016-08-05', '2016-08-06', '2016-08-07',\n",
       "       '2016-08-08', '2016-08-09', '2016-08-10', '2016-08-11',\n",
       "       '2016-08-12', '2016-08-13', '2016-08-14', '2016-08-15',\n",
       "       '2016-08-16', '2016-08-17', '2016-08-18', '2016-08-19',\n",
       "       '2016-08-20', '2016-08-21', '2016-08-22', '2016-08-23',\n",
       "       '2016-08-24', '2016-08-25', '2016-08-26', '2016-08-27',\n",
       "       '2016-08-28', '2016-08-29', '2016-08-30', '2016-08-31',\n",
       "       '2016-09-01', '2016-09-02', '2016-09-03', '2016-09-04',\n",
       "       '2016-09-05', '2016-09-06', '2016-09-07', '2016-09-08',\n",
       "       '2016-09-09', '2016-09-10', '2016-09-11', '2016-09-12',\n",
       "       '2016-09-13', '2016-09-14', '2016-09-15', '2016-09-16',\n",
       "       '2016-09-17', '2016-09-18', '2016-09-19', '2016-09-20',\n",
       "       '2016-09-21', '2016-09-22', '2016-09-23', '2016-09-24',\n",
       "       '2016-09-25', '2016-09-26', '2016-09-27', '2016-09-28',\n",
       "       '2016-09-29', '2016-09-30', '2016-10-01', '2016-10-02',\n",
       "       '2016-10-03', '2016-10-04', '2016-10-05', '2016-10-06',\n",
       "       '2016-10-07', '2016-10-08', '2016-10-09', '2016-10-10',\n",
       "       '2016-10-11', '2016-10-12', '2016-10-13', '2016-10-14',\n",
       "       '2016-10-15', '2016-10-16', '2016-10-17', '2016-10-18',\n",
       "       '2016-10-19', '2016-10-20', '2016-10-21', '2016-10-22',\n",
       "       '2016-10-23', '2016-10-24', '2016-10-25', '2016-10-26',\n",
       "       '2016-10-27', '2016-10-28', '2016-10-29', '2016-10-30',\n",
       "       '2016-10-31', '2016-11-01', '2016-11-02', '2016-11-03',\n",
       "       '2016-11-04', '2016-11-05', '2016-11-06', '2016-11-07',\n",
       "       '2016-11-08', '2016-11-09', '2016-11-10', '2016-11-11',\n",
       "       '2016-11-12', '2016-11-13', '2016-11-14', '2016-11-15',\n",
       "       '2016-11-16', '2016-11-17', '2016-11-18', '2016-11-19',\n",
       "       '2016-11-20', '2016-11-21', '2016-11-22', '2016-11-23',\n",
       "       '2016-11-24', '2016-11-25', '2016-11-26', '2016-11-27',\n",
       "       '2016-11-28', '2016-11-29', '2016-11-30', '2016-12-01',\n",
       "       '2016-12-02', '2016-12-03', '2016-12-04', '2016-12-05',\n",
       "       '2016-12-06', '2016-12-07', '2016-12-08', '2016-12-09',\n",
       "       '2016-12-10', '2016-12-11', '2016-12-12', '2016-12-13',\n",
       "       '2016-12-14', '2016-12-15', '2016-12-16', '2016-12-17',\n",
       "       '2016-12-18', '2016-12-19', '2016-12-20', '2016-12-21',\n",
       "       '2016-12-22', '2016-12-23', '2016-12-24', '2016-12-25',\n",
       "       '2016-12-26', '2016-12-27', '2016-12-28', '2016-12-29',\n",
       "       '2016-12-30', '2016-12-31', '2017-01-01', '2017-01-02',\n",
       "       '2017-01-03', '2017-01-04', '2017-01-05', '2017-01-06',\n",
       "       '2017-01-07', '2017-01-08', '2017-01-09', '2017-01-10',\n",
       "       '2017-01-11', '2017-01-12', '2017-01-13', '2017-01-14',\n",
       "       '2017-01-15', '2017-01-16', '2017-01-17', '2017-01-18',\n",
       "       '2017-01-19', '2017-01-20', '2017-01-21', '2017-01-22',\n",
       "       '2017-01-23', '2017-01-24', '2017-01-25', '2017-01-26',\n",
       "       '2017-01-27', '2017-01-28', '2017-01-29', '2017-01-30',\n",
       "       '2017-01-31', '2017-02-01', '2017-02-02', '2017-02-03',\n",
       "       '2017-02-04', '2017-02-05', '2017-02-06', '2017-02-07',\n",
       "       '2017-02-08', '2017-02-09', '2017-02-10', '2017-02-11',\n",
       "       '2017-02-12', '2017-02-13', '2017-02-14', '2017-02-15',\n",
       "       '2017-02-16', '2017-02-17', '2017-02-18', '2017-02-19',\n",
       "       '2017-02-20', '2017-02-21', '2017-02-22', '2017-02-23',\n",
       "       '2017-02-24', '2017-02-25', '2017-02-26', '2017-02-27',\n",
       "       '2017-02-28', '2017-03-01', '2017-03-02', '2017-03-03',\n",
       "       '2017-03-04', '2017-03-05', '2017-03-06', '2017-03-07',\n",
       "       '2017-03-08', '2017-03-09', '2017-03-10', '2017-03-11',\n",
       "       '2017-03-12', '2017-03-13', '2017-03-14', '2017-03-15',\n",
       "       '2017-03-16', '2017-03-17', '2017-03-18', '2017-03-19',\n",
       "       '2017-03-20', '2017-03-21', '2017-03-22', '2017-03-23',\n",
       "       '2017-03-24', '2017-03-25', '2017-03-26', '2017-03-27',\n",
       "       '2017-03-28', '2017-03-29', '2017-03-30', '2017-03-31',\n",
       "       '2017-04-01', '2017-04-02', '2017-04-03', '2017-04-04',\n",
       "       '2017-04-05', '2017-04-06', '2017-04-07', '2017-04-08',\n",
       "       '2017-04-09', '2017-04-10', '2017-04-11', '2017-04-12',\n",
       "       '2017-04-13', '2017-04-14', '2017-04-15', '2017-04-16',\n",
       "       '2017-04-17', '2017-04-18', '2017-04-19', '2017-04-20',\n",
       "       '2017-04-21', '2017-04-22', '2017-04-23', '2017-04-24',\n",
       "       '2017-04-25', '2017-04-26', '2017-04-27', '2017-04-28',\n",
       "       '2017-04-29', '2017-04-30', '2017-05-01', '2017-05-02',\n",
       "       '2017-05-03', '2017-05-04', '2017-05-05', '2017-05-06',\n",
       "       '2017-05-07', '2017-05-08', '2017-05-09', '2017-05-10',\n",
       "       '2017-05-11', '2017-05-12', '2017-05-13', '2017-05-14',\n",
       "       '2017-05-15', '2017-05-16', '2017-05-17', '2017-05-18',\n",
       "       '2017-05-19', '2017-05-20', '2017-05-21', '2017-05-22',\n",
       "       '2017-05-23', '2017-05-24', '2017-05-25', '2017-05-26',\n",
       "       '2017-05-27', '2017-05-28', '2017-05-29', '2017-05-30',\n",
       "       '2017-05-31', '2017-06-01', '2017-06-02', '2017-06-03',\n",
       "       '2017-06-04', '2017-06-05', '2017-06-06', '2017-06-07',\n",
       "       '2017-06-08', '2017-06-09', '2017-06-10', '2017-06-11',\n",
       "       '2017-06-12', '2017-06-13', '2017-06-14', '2017-06-15',\n",
       "       '2017-06-16', '2017-06-17', '2017-06-18', '2017-06-19',\n",
       "       '2017-06-20', '2017-06-21', '2017-06-22', '2017-06-23',\n",
       "       '2017-06-24', '2017-06-25', '2017-06-26', '2017-06-27',\n",
       "       '2017-06-28', '2017-06-29', '2017-06-30', '2017-07-01',\n",
       "       '2017-07-02', '2017-07-03', '2017-07-04', '2017-07-05',\n",
       "       '2017-07-06', '2017-07-07', '2017-07-08', '2017-07-09',\n",
       "       '2017-07-10', '2017-07-11', '2017-07-12', '2017-07-13',\n",
       "       '2017-07-14', '2017-07-15', '2017-07-16', '2017-07-17',\n",
       "       '2017-07-18', '2017-07-19', '2017-07-20', '2017-07-21',\n",
       "       '2017-07-22', '2017-07-23', '2017-07-24', '2017-07-25',\n",
       "       '2017-07-26', '2017-07-27', '2017-07-28', '2017-07-29',\n",
       "       '2017-07-30', '2017-07-31', '2017-08-01', '2017-08-02',\n",
       "       '2017-08-03', '2017-08-04', '2017-08-05', '2017-08-06',\n",
       "       '2017-08-07', '2017-08-08', '2017-08-09', '2017-08-10',\n",
       "       '2017-08-11', '2017-08-12', '2017-08-13', '2017-08-14',\n",
       "       '2017-08-15', '2017-08-16', '2017-08-17', '2017-08-18',\n",
       "       '2017-08-19', '2017-08-20', '2017-08-21', '2017-08-22',\n",
       "       '2017-08-23', '2017-08-24', '2017-08-25', '2017-08-26',\n",
       "       '2017-08-27', '2017-08-28', '2017-08-29', '2017-08-30',\n",
       "       '2017-08-31', '2017-09-01', '2017-09-02', '2017-09-03',\n",
       "       '2017-09-04', '2017-09-05', '2017-09-06', '2017-09-07',\n",
       "       '2017-09-08', '2017-09-09', '2017-09-10', '2017-09-11',\n",
       "       '2017-09-12', '2017-09-13', '2017-09-14', '2017-09-15',\n",
       "       '2017-09-16', '2017-09-17', '2017-09-18', '2017-09-19',\n",
       "       '2017-09-20', '2017-09-21', '2017-09-22', '2017-09-23',\n",
       "       '2017-09-24', '2017-09-25', '2017-09-26', '2017-09-27',\n",
       "       '2017-09-28', '2017-09-29', '2017-09-30', '2017-10-01',\n",
       "       '2017-10-02', '2017-10-03', '2017-10-04', '2017-10-05',\n",
       "       '2017-10-06', '2017-10-07', '2017-10-08', '2017-10-09',\n",
       "       '2017-10-10', '2017-10-11', '2017-10-12', '2017-10-13',\n",
       "       '2017-10-14', '2017-10-15', '2017-10-16', '2017-10-17',\n",
       "       '2017-10-18', '2017-10-19', '2017-10-20', '2017-10-21',\n",
       "       '2017-10-22', '2017-10-23', '2017-10-24', '2017-10-25',\n",
       "       '2017-10-26', '2017-10-27', '2017-10-28', '2017-10-29',\n",
       "       '2017-10-30', '2017-10-31', '2017-11-01', '2017-11-02',\n",
       "       '2017-11-03', '2017-11-04', '2017-11-05', '2017-11-06',\n",
       "       '2017-11-07', '2017-11-08', '2017-11-09', '2017-11-10',\n",
       "       '2017-11-11', '2017-11-12', '2017-11-13', '2017-11-14',\n",
       "       '2017-11-15', '2017-11-16', '2017-11-17', '2017-11-18',\n",
       "       '2017-11-19', '2017-11-20', '2017-11-21', '2017-11-22',\n",
       "       '2017-11-23', '2017-11-24', '2017-11-25', '2017-11-26',\n",
       "       '2017-11-27', '2017-11-28', '2017-11-29', '2017-11-30',\n",
       "       '2017-12-01', '2017-12-02', '2017-12-03', '2017-12-04',\n",
       "       '2017-12-05', '2017-12-06', '2017-12-07', '2017-12-08',\n",
       "       '2017-12-09', '2017-12-10', '2017-12-11', '2017-12-12',\n",
       "       '2017-12-13', '2017-12-14'], dtype=object)"
      ]
     },
     "execution_count": 39,
     "metadata": {},
     "output_type": "execute_result"
    }
   ],
   "source": [
    "weather2016.DATE.unique()"
   ]
  },
  {
   "cell_type": "markdown",
   "metadata": {},
   "source": [
    "## Trying to Add in Month and Year Columns"
   ]
  },
  {
   "cell_type": "code",
   "execution_count": 40,
   "metadata": {},
   "outputs": [
    {
     "name": "stderr",
     "output_type": "stream",
     "text": [
      "/usr/local/Cellar/ipython/6.5.0/libexec/vendor/lib/python3.7/site-packages/ipykernel_launcher.py:1: SettingWithCopyWarning: \n",
      "A value is trying to be set on a copy of a slice from a DataFrame.\n",
      "Try using .loc[row_indexer,col_indexer] = value instead\n",
      "\n",
      "See the caveats in the documentation: http://pandas.pydata.org/pandas-docs/stable/indexing.html#indexing-view-versus-copy\n",
      "  \"\"\"Entry point for launching an IPython kernel.\n"
     ]
    }
   ],
   "source": [
    "weather2016['Year'] = weather2016.DATE.astype(str).str[2:4]"
   ]
  },
  {
   "cell_type": "code",
   "execution_count": 41,
   "metadata": {},
   "outputs": [
    {
     "name": "stderr",
     "output_type": "stream",
     "text": [
      "/usr/local/Cellar/ipython/6.5.0/libexec/vendor/lib/python3.7/site-packages/ipykernel_launcher.py:1: SettingWithCopyWarning: \n",
      "A value is trying to be set on a copy of a slice from a DataFrame.\n",
      "Try using .loc[row_indexer,col_indexer] = value instead\n",
      "\n",
      "See the caveats in the documentation: http://pandas.pydata.org/pandas-docs/stable/indexing.html#indexing-view-versus-copy\n",
      "  \"\"\"Entry point for launching an IPython kernel.\n"
     ]
    }
   ],
   "source": [
    "weather2016['Month'] = weather2016.DATE.astype(str).str[5:7]"
   ]
  },
  {
   "cell_type": "code",
   "execution_count": 42,
   "metadata": {},
   "outputs": [
    {
     "data": {
      "text/plain": [
       "array(['01', '02', '03', '04', '05', '06', '07', '08', '09', '10', '11',\n",
       "       '12'], dtype=object)"
      ]
     },
     "execution_count": 42,
     "metadata": {},
     "output_type": "execute_result"
    }
   ],
   "source": [
    "weather2016.Month.unique()"
   ]
  },
  {
   "cell_type": "code",
   "execution_count": 43,
   "metadata": {},
   "outputs": [
    {
     "data": {
      "text/plain": [
       "array(['16', '17'], dtype=object)"
      ]
     },
     "execution_count": 43,
     "metadata": {},
     "output_type": "execute_result"
    }
   ],
   "source": [
    "weather2016.Year.unique()"
   ]
  },
  {
   "cell_type": "code",
   "execution_count": 44,
   "metadata": {},
   "outputs": [
    {
     "data": {
      "text/html": [
       "<div>\n",
       "<style scoped>\n",
       "    .dataframe tbody tr th:only-of-type {\n",
       "        vertical-align: middle;\n",
       "    }\n",
       "\n",
       "    .dataframe tbody tr th {\n",
       "        vertical-align: top;\n",
       "    }\n",
       "\n",
       "    .dataframe thead th {\n",
       "        text-align: right;\n",
       "    }\n",
       "</style>\n",
       "<table border=\"1\" class=\"dataframe\">\n",
       "  <thead>\n",
       "    <tr style=\"text-align: right;\">\n",
       "      <th></th>\n",
       "      <th>DATE</th>\n",
       "      <th>PRCP</th>\n",
       "      <th>TMAX</th>\n",
       "      <th>TMIN</th>\n",
       "      <th>RAIN</th>\n",
       "      <th>Year</th>\n",
       "      <th>Month</th>\n",
       "    </tr>\n",
       "  </thead>\n",
       "  <tbody>\n",
       "    <tr>\n",
       "      <th>24837</th>\n",
       "      <td>2016-01-01</td>\n",
       "      <td>0.00</td>\n",
       "      <td>46</td>\n",
       "      <td>28</td>\n",
       "      <td>False</td>\n",
       "      <td>16</td>\n",
       "      <td>01</td>\n",
       "    </tr>\n",
       "    <tr>\n",
       "      <th>24838</th>\n",
       "      <td>2016-01-02</td>\n",
       "      <td>0.00</td>\n",
       "      <td>42</td>\n",
       "      <td>25</td>\n",
       "      <td>False</td>\n",
       "      <td>16</td>\n",
       "      <td>01</td>\n",
       "    </tr>\n",
       "    <tr>\n",
       "      <th>24839</th>\n",
       "      <td>2016-01-03</td>\n",
       "      <td>0.02</td>\n",
       "      <td>40</td>\n",
       "      <td>31</td>\n",
       "      <td>True</td>\n",
       "      <td>16</td>\n",
       "      <td>01</td>\n",
       "    </tr>\n",
       "    <tr>\n",
       "      <th>24840</th>\n",
       "      <td>2016-01-04</td>\n",
       "      <td>0.15</td>\n",
       "      <td>38</td>\n",
       "      <td>35</td>\n",
       "      <td>True</td>\n",
       "      <td>16</td>\n",
       "      <td>01</td>\n",
       "    </tr>\n",
       "    <tr>\n",
       "      <th>24841</th>\n",
       "      <td>2016-01-05</td>\n",
       "      <td>0.11</td>\n",
       "      <td>46</td>\n",
       "      <td>36</td>\n",
       "      <td>True</td>\n",
       "      <td>16</td>\n",
       "      <td>01</td>\n",
       "    </tr>\n",
       "  </tbody>\n",
       "</table>\n",
       "</div>"
      ],
      "text/plain": [
       "             DATE  PRCP  TMAX  TMIN   RAIN Year Month\n",
       "24837  2016-01-01  0.00    46    28  False   16    01\n",
       "24838  2016-01-02  0.00    42    25  False   16    01\n",
       "24839  2016-01-03  0.02    40    31   True   16    01\n",
       "24840  2016-01-04  0.15    38    35   True   16    01\n",
       "24841  2016-01-05  0.11    46    36   True   16    01"
      ]
     },
     "execution_count": 44,
     "metadata": {},
     "output_type": "execute_result"
    }
   ],
   "source": [
    "weather2016.head()"
   ]
  },
  {
   "cell_type": "code",
   "execution_count": 45,
   "metadata": {
    "collapsed": true
   },
   "outputs": [],
   "source": [
    "weather2016.to_csv('weather2016.csv')"
   ]
  },
  {
   "cell_type": "markdown",
   "metadata": {},
   "source": [
    "## Find the Rainy Months"
   ]
  },
  {
   "cell_type": "code",
   "execution_count": 47,
   "metadata": {
    "collapsed": true
   },
   "outputs": [],
   "source": [
    "weather2016 = pd.read_csv('weather2016.csv')"
   ]
  },
  {
   "cell_type": "code",
   "execution_count": 46,
   "metadata": {
    "scrolled": true
   },
   "outputs": [
    {
     "data": {
      "text/html": [
       "<div>\n",
       "<style scoped>\n",
       "    .dataframe tbody tr th:only-of-type {\n",
       "        vertical-align: middle;\n",
       "    }\n",
       "\n",
       "    .dataframe tbody tr th {\n",
       "        vertical-align: top;\n",
       "    }\n",
       "\n",
       "    .dataframe thead th {\n",
       "        text-align: right;\n",
       "    }\n",
       "</style>\n",
       "<table border=\"1\" class=\"dataframe\">\n",
       "  <thead>\n",
       "    <tr style=\"text-align: right;\">\n",
       "      <th></th>\n",
       "      <th></th>\n",
       "      <th>PRCP</th>\n",
       "      <th>TMAX</th>\n",
       "      <th>TMIN</th>\n",
       "    </tr>\n",
       "    <tr>\n",
       "      <th>Month</th>\n",
       "      <th>Year</th>\n",
       "      <th></th>\n",
       "      <th></th>\n",
       "      <th></th>\n",
       "    </tr>\n",
       "  </thead>\n",
       "  <tbody>\n",
       "    <tr>\n",
       "      <th rowspan=\"2\" valign=\"top\">01</th>\n",
       "      <th>16</th>\n",
       "      <td>7.45</td>\n",
       "      <td>1521</td>\n",
       "      <td>1189</td>\n",
       "    </tr>\n",
       "    <tr>\n",
       "      <th>17</th>\n",
       "      <td>4.22</td>\n",
       "      <td>1354</td>\n",
       "      <td>993</td>\n",
       "    </tr>\n",
       "    <tr>\n",
       "      <th rowspan=\"2\" valign=\"top\">02</th>\n",
       "      <th>16</th>\n",
       "      <td>5.97</td>\n",
       "      <td>1553</td>\n",
       "      <td>1196</td>\n",
       "    </tr>\n",
       "    <tr>\n",
       "      <th>17</th>\n",
       "      <td>8.85</td>\n",
       "      <td>1306</td>\n",
       "      <td>1008</td>\n",
       "    </tr>\n",
       "    <tr>\n",
       "      <th rowspan=\"2\" valign=\"top\">03</th>\n",
       "      <th>16</th>\n",
       "      <td>5.52</td>\n",
       "      <td>1749</td>\n",
       "      <td>1311</td>\n",
       "    </tr>\n",
       "    <tr>\n",
       "      <th>17</th>\n",
       "      <td>7.32</td>\n",
       "      <td>1598</td>\n",
       "      <td>1257</td>\n",
       "    </tr>\n",
       "    <tr>\n",
       "      <th rowspan=\"2\" valign=\"top\">04</th>\n",
       "      <th>16</th>\n",
       "      <td>1.19</td>\n",
       "      <td>1977</td>\n",
       "      <td>1425</td>\n",
       "    </tr>\n",
       "    <tr>\n",
       "      <th>17</th>\n",
       "      <td>4.21</td>\n",
       "      <td>1719</td>\n",
       "      <td>1319</td>\n",
       "    </tr>\n",
       "    <tr>\n",
       "      <th rowspan=\"2\" valign=\"top\">05</th>\n",
       "      <th>16</th>\n",
       "      <td>0.94</td>\n",
       "      <td>2134</td>\n",
       "      <td>1572</td>\n",
       "    </tr>\n",
       "    <tr>\n",
       "      <th>17</th>\n",
       "      <td>2.28</td>\n",
       "      <td>2077</td>\n",
       "      <td>1514</td>\n",
       "    </tr>\n",
       "    <tr>\n",
       "      <th rowspan=\"2\" valign=\"top\">06</th>\n",
       "      <th>16</th>\n",
       "      <td>1.77</td>\n",
       "      <td>2193</td>\n",
       "      <td>1618</td>\n",
       "    </tr>\n",
       "    <tr>\n",
       "      <th>17</th>\n",
       "      <td>1.52</td>\n",
       "      <td>2163</td>\n",
       "      <td>1611</td>\n",
       "    </tr>\n",
       "    <tr>\n",
       "      <th rowspan=\"2\" valign=\"top\">07</th>\n",
       "      <th>16</th>\n",
       "      <td>0.72</td>\n",
       "      <td>2355</td>\n",
       "      <td>1787</td>\n",
       "    </tr>\n",
       "    <tr>\n",
       "      <th>17</th>\n",
       "      <td>0.00</td>\n",
       "      <td>2428</td>\n",
       "      <td>1746</td>\n",
       "    </tr>\n",
       "    <tr>\n",
       "      <th rowspan=\"2\" valign=\"top\">08</th>\n",
       "      <th>16</th>\n",
       "      <td>0.17</td>\n",
       "      <td>2466</td>\n",
       "      <td>1795</td>\n",
       "    </tr>\n",
       "    <tr>\n",
       "      <th>17</th>\n",
       "      <td>0.02</td>\n",
       "      <td>2527</td>\n",
       "      <td>1829</td>\n",
       "    </tr>\n",
       "    <tr>\n",
       "      <th rowspan=\"2\" valign=\"top\">09</th>\n",
       "      <th>16</th>\n",
       "      <td>1.05</td>\n",
       "      <td>2087</td>\n",
       "      <td>1586</td>\n",
       "    </tr>\n",
       "    <tr>\n",
       "      <th>17</th>\n",
       "      <td>0.59</td>\n",
       "      <td>2214</td>\n",
       "      <td>1667</td>\n",
       "    </tr>\n",
       "    <tr>\n",
       "      <th rowspan=\"2\" valign=\"top\">10</th>\n",
       "      <th>16</th>\n",
       "      <td>10.05</td>\n",
       "      <td>1877</td>\n",
       "      <td>1522</td>\n",
       "    </tr>\n",
       "    <tr>\n",
       "      <th>17</th>\n",
       "      <td>4.80</td>\n",
       "      <td>1894</td>\n",
       "      <td>1404</td>\n",
       "    </tr>\n",
       "    <tr>\n",
       "      <th rowspan=\"2\" valign=\"top\">11</th>\n",
       "      <th>16</th>\n",
       "      <td>6.48</td>\n",
       "      <td>1681</td>\n",
       "      <td>1371</td>\n",
       "    </tr>\n",
       "    <tr>\n",
       "      <th>17</th>\n",
       "      <td>8.63</td>\n",
       "      <td>1540</td>\n",
       "      <td>1260</td>\n",
       "    </tr>\n",
       "    <tr>\n",
       "      <th rowspan=\"2\" valign=\"top\">12</th>\n",
       "      <th>16</th>\n",
       "      <td>3.87</td>\n",
       "      <td>1299</td>\n",
       "      <td>1054</td>\n",
       "    </tr>\n",
       "    <tr>\n",
       "      <th>17</th>\n",
       "      <td>1.11</td>\n",
       "      <td>661</td>\n",
       "      <td>478</td>\n",
       "    </tr>\n",
       "  </tbody>\n",
       "</table>\n",
       "</div>"
      ],
      "text/plain": [
       "             PRCP  TMAX  TMIN\n",
       "Month Year                   \n",
       "01    16     7.45  1521  1189\n",
       "      17     4.22  1354   993\n",
       "02    16     5.97  1553  1196\n",
       "      17     8.85  1306  1008\n",
       "03    16     5.52  1749  1311\n",
       "      17     7.32  1598  1257\n",
       "04    16     1.19  1977  1425\n",
       "      17     4.21  1719  1319\n",
       "05    16     0.94  2134  1572\n",
       "      17     2.28  2077  1514\n",
       "06    16     1.77  2193  1618\n",
       "      17     1.52  2163  1611\n",
       "07    16     0.72  2355  1787\n",
       "      17     0.00  2428  1746\n",
       "08    16     0.17  2466  1795\n",
       "      17     0.02  2527  1829\n",
       "09    16     1.05  2087  1586\n",
       "      17     0.59  2214  1667\n",
       "10    16    10.05  1877  1522\n",
       "      17     4.80  1894  1404\n",
       "11    16     6.48  1681  1371\n",
       "      17     8.63  1540  1260\n",
       "12    16     3.87  1299  1054\n",
       "      17     1.11   661   478"
      ]
     },
     "execution_count": 46,
     "metadata": {},
     "output_type": "execute_result"
    }
   ],
   "source": [
    "weather2016.groupby(['Month', 'Year']).sum()"
   ]
  },
  {
   "cell_type": "code",
   "execution_count": 48,
   "metadata": {
    "collapsed": true
   },
   "outputs": [],
   "source": [
    "weather2016['RAIN'] = weather2016['RAIN'].astype(int)"
   ]
  },
  {
   "cell_type": "code",
   "execution_count": 49,
   "metadata": {
    "collapsed": true
   },
   "outputs": [],
   "source": [
    "weatherGrouped = weather2016.groupby(['Month', 'Year']).sum()"
   ]
  },
  {
   "cell_type": "code",
   "execution_count": 18,
   "metadata": {},
   "outputs": [
    {
     "data": {
      "text/plain": [
       "MultiIndex(levels=[[1, 2, 3, 4, 5, 6, 7, 8, 9, 10, 11, 12], [11, 12, 13, 14, 15, 16, 17]],\n",
       "           labels=[[0, 0, 0, 0, 0, 0, 0, 1, 1, 1, 1, 1, 1, 1, 2, 2, 2, 2, 2, 2, 2, 3, 3, 3, 3, 3, 3, 3, 4, 4, 4, 4, 4, 4, 4, 5, 5, 5, 5, 5, 5, 5, 6, 6, 6, 6, 6, 6, 6, 7, 7, 7, 7, 7, 7, 7, 8, 8, 8, 8, 8, 8, 8, 9, 9, 9, 9, 9, 9, 9, 10, 10, 10, 10, 10, 10, 10, 11, 11, 11, 11, 11, 11, 11], [0, 1, 2, 3, 4, 5, 6, 0, 1, 2, 3, 4, 5, 6, 0, 1, 2, 3, 4, 5, 6, 0, 1, 2, 3, 4, 5, 6, 0, 1, 2, 3, 4, 5, 6, 0, 1, 2, 3, 4, 5, 6, 0, 1, 2, 3, 4, 5, 6, 0, 1, 2, 3, 4, 5, 6, 0, 1, 2, 3, 4, 5, 6, 0, 1, 2, 3, 4, 5, 6, 0, 1, 2, 3, 4, 5, 6, 0, 1, 2, 3, 4, 5, 6]],\n",
       "           names=['Month', 'Year'])"
      ]
     },
     "execution_count": 18,
     "metadata": {},
     "output_type": "execute_result"
    }
   ],
   "source": [
    "weatherGrouped.index"
   ]
  },
  {
   "cell_type": "code",
   "execution_count": 50,
   "metadata": {
    "collapsed": true
   },
   "outputs": [],
   "source": [
    "months = [a for a in range(1, 13)]\n",
    "years = [a for a in range(2016, 2018)]\n",
    "daysPerMonth = {\n",
    "    1: 31,\n",
    "    2: 28,\n",
    "    3: 31,\n",
    "    4: 30,\n",
    "    5: 31,\n",
    "    6: 30, \n",
    "    7: 31,\n",
    "    8: 31,\n",
    "    9: 30,\n",
    "    10: 31,\n",
    "    11: 30,\n",
    "    12: 31\n",
    "}"
   ]
  },
  {
   "cell_type": "code",
   "execution_count": 51,
   "metadata": {},
   "outputs": [
    {
     "data": {
      "text/plain": [
       "array([ 1,  2,  3,  4,  5,  6,  7,  8,  9, 10, 11, 12])"
      ]
     },
     "execution_count": 51,
     "metadata": {},
     "output_type": "execute_result"
    }
   ],
   "source": [
    "weather2016.Month.unique()"
   ]
  },
  {
   "cell_type": "code",
   "execution_count": 53,
   "metadata": {
    "collapsed": true,
    "scrolled": true
   },
   "outputs": [],
   "source": [
    "from collections import defaultdict\n",
    "yearMonthCounts = {\n",
    "    16: defaultdict(int),\n",
    "    17: defaultdict(int),\n",
    "}\n",
    "\n",
    "for index, row in weather2016.iterrows():\n",
    "#     print(row['Year'])\n",
    "#     print(row['Month'])\n",
    "    if row['RAIN'] == 1:\n",
    "        yearMonthCounts[int(row['Year'])][int(row['Month'])] += 1"
   ]
  },
  {
   "cell_type": "code",
   "execution_count": 54,
   "metadata": {
    "scrolled": true
   },
   "outputs": [
    {
     "data": {
      "text/plain": [
       "{16: defaultdict(int,\n",
       "             {1: 20,\n",
       "              2: 21,\n",
       "              3: 19,\n",
       "              4: 9,\n",
       "              5: 7,\n",
       "              6: 10,\n",
       "              7: 6,\n",
       "              8: 3,\n",
       "              9: 10,\n",
       "              10: 25,\n",
       "              11: 22,\n",
       "              12: 20}),\n",
       " 17: defaultdict(int,\n",
       "             {1: 11,\n",
       "              2: 22,\n",
       "              3: 25,\n",
       "              4: 23,\n",
       "              5: 14,\n",
       "              6: 6,\n",
       "              8: 1,\n",
       "              9: 8,\n",
       "              10: 12,\n",
       "              11: 24,\n",
       "              12: 3})}"
      ]
     },
     "execution_count": 54,
     "metadata": {},
     "output_type": "execute_result"
    }
   ],
   "source": [
    "yearMonthCounts"
   ]
  },
  {
   "cell_type": "code",
   "execution_count": 55,
   "metadata": {
    "collapsed": true,
    "scrolled": true
   },
   "outputs": [],
   "source": [
    "rainyMonths = {\n",
    "    16: {},\n",
    "    17: {},\n",
    "}\n",
    "\n",
    "for year, month in yearMonthCounts.items():\n",
    "    for month_number, rainy_days in month.items():\n",
    "        if rainy_days > float(daysPerMonth[month_number]) / 2:\n",
    "            rainyMonths[year][month_number] = True\n",
    "        else:\n",
    "            rainyMonths[year][month_number] = False"
   ]
  },
  {
   "cell_type": "code",
   "execution_count": 56,
   "metadata": {
    "scrolled": true
   },
   "outputs": [
    {
     "data": {
      "text/plain": [
       "{16: {1: True,\n",
       "  2: True,\n",
       "  3: True,\n",
       "  4: False,\n",
       "  5: False,\n",
       "  6: False,\n",
       "  7: False,\n",
       "  8: False,\n",
       "  9: False,\n",
       "  10: True,\n",
       "  11: True,\n",
       "  12: True},\n",
       " 17: {1: False,\n",
       "  2: True,\n",
       "  3: True,\n",
       "  4: True,\n",
       "  5: False,\n",
       "  6: False,\n",
       "  8: False,\n",
       "  9: False,\n",
       "  10: False,\n",
       "  11: True,\n",
       "  12: False}}"
      ]
     },
     "execution_count": 56,
     "metadata": {},
     "output_type": "execute_result"
    }
   ],
   "source": [
    "rainyMonths"
   ]
  },
  {
   "cell_type": "markdown",
   "metadata": {},
   "source": [
    "## Trying To Add Rainy Month to Original Dataframe"
   ]
  },
  {
   "cell_type": "code",
   "execution_count": 57,
   "metadata": {},
   "outputs": [
    {
     "name": "stderr",
     "output_type": "stream",
     "text": [
      "/usr/local/Cellar/ipython/6.5.0/libexec/lib/python3.7/site-packages/IPython/core/interactiveshell.py:2785: DtypeWarning: Columns (11) have mixed types. Specify dtype option on import or set low_memory=False.\n",
      "  interactivity=interactivity, compiler=compiler, result=result)\n"
     ]
    }
   ],
   "source": [
    "checkoutWithDate = pd.read_csv('CheckoutWithDate.csv')"
   ]
  },
  {
   "cell_type": "code",
   "execution_count": 58,
   "metadata": {
    "scrolled": true
   },
   "outputs": [
    {
     "data": {
      "text/plain": [
       "array([17, 16])"
      ]
     },
     "execution_count": 58,
     "metadata": {},
     "output_type": "execute_result"
    }
   ],
   "source": [
    "checkoutWithDate.CheckoutYear.unique()"
   ]
  },
  {
   "cell_type": "code",
   "execution_count": 59,
   "metadata": {
    "collapsed": true
   },
   "outputs": [],
   "source": [
    "num_entries = len(checkoutWithDate)"
   ]
  },
  {
   "cell_type": "code",
   "execution_count": 60,
   "metadata": {},
   "outputs": [
    {
     "data": {
      "text/plain": [
       "5938664"
      ]
     },
     "execution_count": 60,
     "metadata": {},
     "output_type": "execute_result"
    }
   ],
   "source": [
    "len(checkoutWithDate)"
   ]
  },
  {
   "cell_type": "code",
   "execution_count": 61,
   "metadata": {
    "scrolled": true
   },
   "outputs": [
    {
     "name": "stdout",
     "output_type": "stream",
     "text": [
      "0.9999998316119585%\n"
     ]
    }
   ],
   "source": [
    "from IPython.display import clear_output\n",
    "\n",
    "for index, row in checkoutWithDate.iterrows():\n",
    "    clear_output()\n",
    "    print(\"{}%\".format(index / num_entries))\n",
    "    try:\n",
    "        isRainy = rainyMonths[row['CheckoutYear']][row['CheckoutMonth']]\n",
    "        checkoutWithDate.at[index,'IsRainyMonth'] = isRainy\n",
    "    except:\n",
    "        checkoutWithDate.at[index,'IsRainyMonth'] = False"
   ]
  },
  {
   "cell_type": "code",
   "execution_count": 62,
   "metadata": {},
   "outputs": [
    {
     "data": {
      "text/html": [
       "<div>\n",
       "<style scoped>\n",
       "    .dataframe tbody tr th:only-of-type {\n",
       "        vertical-align: middle;\n",
       "    }\n",
       "\n",
       "    .dataframe tbody tr th {\n",
       "        vertical-align: top;\n",
       "    }\n",
       "\n",
       "    .dataframe thead th {\n",
       "        text-align: right;\n",
       "    }\n",
       "</style>\n",
       "<table border=\"1\" class=\"dataframe\">\n",
       "  <thead>\n",
       "    <tr style=\"text-align: right;\">\n",
       "      <th></th>\n",
       "      <th>Unnamed: 0</th>\n",
       "      <th>Unnamed: 0.1</th>\n",
       "      <th>Unnamed: 0.1.1</th>\n",
       "      <th>Unnamed: 0.1.1.1</th>\n",
       "      <th>UsageClass</th>\n",
       "      <th>MaterialType</th>\n",
       "      <th>CheckoutYear</th>\n",
       "      <th>CheckoutMonth</th>\n",
       "      <th>Checkouts</th>\n",
       "      <th>Subjects</th>\n",
       "      <th>DATE</th>\n",
       "      <th>IsRainyMonth</th>\n",
       "    </tr>\n",
       "  </thead>\n",
       "  <tbody>\n",
       "    <tr>\n",
       "      <th>0</th>\n",
       "      <td>0</td>\n",
       "      <td>0</td>\n",
       "      <td>0</td>\n",
       "      <td>0</td>\n",
       "      <td>Physical</td>\n",
       "      <td>VIDEODISC</td>\n",
       "      <td>17</td>\n",
       "      <td>4</td>\n",
       "      <td>3</td>\n",
       "      <td>Intelligence officers Drama, Employees Recruit...</td>\n",
       "      <td>4/1/17</td>\n",
       "      <td>True</td>\n",
       "    </tr>\n",
       "    <tr>\n",
       "      <th>1</th>\n",
       "      <td>1</td>\n",
       "      <td>1</td>\n",
       "      <td>1</td>\n",
       "      <td>1</td>\n",
       "      <td>Digital</td>\n",
       "      <td>SONG</td>\n",
       "      <td>17</td>\n",
       "      <td>4</td>\n",
       "      <td>1</td>\n",
       "      <td>NaN</td>\n",
       "      <td>4/1/17</td>\n",
       "      <td>True</td>\n",
       "    </tr>\n",
       "    <tr>\n",
       "      <th>2</th>\n",
       "      <td>2</td>\n",
       "      <td>2</td>\n",
       "      <td>2</td>\n",
       "      <td>2</td>\n",
       "      <td>Digital</td>\n",
       "      <td>SONG</td>\n",
       "      <td>17</td>\n",
       "      <td>4</td>\n",
       "      <td>1</td>\n",
       "      <td>NaN</td>\n",
       "      <td>4/1/17</td>\n",
       "      <td>True</td>\n",
       "    </tr>\n",
       "    <tr>\n",
       "      <th>3</th>\n",
       "      <td>3</td>\n",
       "      <td>3</td>\n",
       "      <td>3</td>\n",
       "      <td>3</td>\n",
       "      <td>Physical</td>\n",
       "      <td>VIDEODISC</td>\n",
       "      <td>17</td>\n",
       "      <td>4</td>\n",
       "      <td>7</td>\n",
       "      <td>Elmo Fictitious character Henson Juvenile film...</td>\n",
       "      <td>4/1/17</td>\n",
       "      <td>True</td>\n",
       "    </tr>\n",
       "    <tr>\n",
       "      <th>4</th>\n",
       "      <td>4</td>\n",
       "      <td>4</td>\n",
       "      <td>4</td>\n",
       "      <td>4</td>\n",
       "      <td>Digital</td>\n",
       "      <td>EBOOK</td>\n",
       "      <td>17</td>\n",
       "      <td>4</td>\n",
       "      <td>1</td>\n",
       "      <td>Juvenile Fiction, Juvenile Literature</td>\n",
       "      <td>4/1/17</td>\n",
       "      <td>True</td>\n",
       "    </tr>\n",
       "  </tbody>\n",
       "</table>\n",
       "</div>"
      ],
      "text/plain": [
       "   Unnamed: 0  Unnamed: 0.1  Unnamed: 0.1.1  Unnamed: 0.1.1.1 UsageClass  \\\n",
       "0           0             0               0                 0   Physical   \n",
       "1           1             1               1                 1    Digital   \n",
       "2           2             2               2                 2    Digital   \n",
       "3           3             3               3                 3   Physical   \n",
       "4           4             4               4                 4    Digital   \n",
       "\n",
       "  MaterialType  CheckoutYear  CheckoutMonth  Checkouts  \\\n",
       "0    VIDEODISC            17              4          3   \n",
       "1         SONG            17              4          1   \n",
       "2         SONG            17              4          1   \n",
       "3    VIDEODISC            17              4          7   \n",
       "4        EBOOK            17              4          1   \n",
       "\n",
       "                                            Subjects    DATE IsRainyMonth  \n",
       "0  Intelligence officers Drama, Employees Recruit...  4/1/17         True  \n",
       "1                                                NaN  4/1/17         True  \n",
       "2                                                NaN  4/1/17         True  \n",
       "3  Elmo Fictitious character Henson Juvenile film...  4/1/17         True  \n",
       "4              Juvenile Fiction, Juvenile Literature  4/1/17         True  "
      ]
     },
     "execution_count": 62,
     "metadata": {},
     "output_type": "execute_result"
    }
   ],
   "source": [
    "checkoutWithDate.head()"
   ]
  },
  {
   "cell_type": "code",
   "execution_count": null,
   "metadata": {
    "collapsed": true
   },
   "outputs": [],
   "source": []
  }
 ],
 "metadata": {
  "kernelspec": {
   "display_name": "Python 3",
   "language": "python",
   "name": "python3"
  },
  "language_info": {
   "codemirror_mode": {
    "name": "ipython",
    "version": 3
   },
   "file_extension": ".py",
   "mimetype": "text/x-python",
   "name": "python",
   "nbconvert_exporter": "python",
   "pygments_lexer": "ipython3",
   "version": "3.6.3"
  }
 },
 "nbformat": 4,
 "nbformat_minor": 2
}
